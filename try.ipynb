{
 "cells": [
  {
   "cell_type": "code",
   "execution_count": 1,
   "metadata": {},
   "outputs": [],
   "source": [
    "import os\n",
    "import ipyvuetify as v\n",
    "import yaml\n",
    "from notebook import notebookapp"
   ]
  },
  {
   "cell_type": "code",
   "execution_count": 2,
   "metadata": {},
   "outputs": [],
   "source": [
    "with open('try_config.yml', 'r') as f:\n",
    "    config = yaml.safe_load(f)\n",
    "with open('try_cards.yaml', 'r') as f:\n",
    "    try_cards = yaml.safe_load(f)"
   ]
  },
  {
   "cell_type": "code",
   "execution_count": 3,
   "metadata": {},
   "outputs": [],
   "source": [
    "# This is a dirty hack until https://github.com/voila-dashboards/voila/pull/414\n",
    "server_info = list(notebookapp.list_running_servers())[0]\n",
    "jupyter_path = server_info['url'].replace(str(server_info['port']), '8866')"
   ]
  },
  {
   "cell_type": "code",
   "execution_count": 4,
   "metadata": {},
   "outputs": [],
   "source": [
    "title_bar_color = 'blue'\n",
    "my_dashboard_name = 'pycalphad'"
   ]
  },
  {
   "cell_type": "code",
   "execution_count": 5,
   "metadata": {},
   "outputs": [],
   "source": [
    "logo = {\n",
    "    'pycalphad': 'http://pycalphad.org/docs/latest/_images/pycalphad-logo-notext.png'\n",
    "}"
   ]
  },
  {
   "cell_type": "code",
   "execution_count": 6,
   "metadata": {},
   "outputs": [],
   "source": [
    "lst = []\n",
    "if 'app_bar_links' in config.keys():\n",
    "    lst = [\n",
    "        v.Btn(children=[name], flat=True, href=link, target='_blank')\n",
    "        for name, link in config['app_bar_links'].items()\n",
    "    ]"
   ]
  },
  {
   "cell_type": "code",
   "execution_count": 7,
   "metadata": {},
   "outputs": [],
   "source": [
    "items = []\n",
    "for card in try_cards:\n",
    "    this_item = {}\n",
    "    this_item['title'] = card['title']\n",
    "    this_item['description'] = card['description']\n",
    "    this_item['link'] = card['url']\n",
    "    this_item['hero_image'] = card['hero_image']\n",
    "    items.append(this_item)"
   ]
  },
  {
   "cell_type": "code",
   "execution_count": 8,
   "metadata": {},
   "outputs": [],
   "source": [
    "toolbar = v.Toolbar(color=title_bar_color, min_height='85px', dark=True,\n",
    "    children=[\n",
    "        v.ToolbarItems(children=[v.Img(src=logo['pycalphad'], width='75px')], height='100%'),\n",
    "        v.ToolbarTitle(children=[my_dashboard_name], color='blue'),\n",
    "        v.Spacer(), # Fills empty space\n",
    "        v.ToolbarItems(children=lst)\n",
    "    ],\n",
    "    app=True\n",
    ")"
   ]
  },
  {
   "cell_type": "code",
   "execution_count": 9,
   "metadata": {},
   "outputs": [],
   "source": [
    "cards = [\n",
    "    v.Flex(ma_2=True, fluid=True, children = [\n",
    "        v.Card(hover=True, #class_='mx-auto', elevation=5,\n",
    "               align_center=True,\n",
    "               fluid=True,\n",
    "               #height='100%',\n",
    "               min_width='300px',\n",
    "               max_width='330px',\n",
    "               href=details['link'],\n",
    "               target='_blank',\n",
    "               children=[\n",
    "                   v.CardTitle(children=[\n",
    "                       v.Html(tag='div', class_='headline mb-0', style_='word-break:break-word;', children=[details['title']]),\n",
    "                       v.Spacer(),\n",
    "                       #v.Btn(icon=True, href=details['link'], target='blank_', children=[v.Icon(color='grey', children=['launch'])])\n",
    "                   ]),\n",
    "                   v.Img(src=details['hero_image'], max_width='95%', max_height='230px', contain=True),\n",
    "                   v.CardText(children=[\n",
    "                       v.Html(tag='div', style_='width:95%;word-break:break-word;', children=[details['description']])\n",
    "                   ])\n",
    "               ]\n",
    "              )\n",
    "            ]\n",
    "          )\n",
    "\n",
    "    for i, details in enumerate(items)\n",
    "]"
   ]
  },
  {
   "cell_type": "code",
   "execution_count": 10,
   "metadata": {},
   "outputs": [],
   "source": [
    "app = v.App(\n",
    "    style_=\"background: white\",#3A1C71\",\n",
    "    children = [\n",
    "        toolbar,\n",
    "        v.Container(fluid=True, mt_3=True, children = [\n",
    "            v.Layout(ma_5=True, wrap=True, children=cards)\n",
    "    ])\n",
    "])\n"
   ]
  },
  {
   "cell_type": "code",
   "execution_count": 11,
   "metadata": {},
   "outputs": [
    {
     "data": {
      "application/vnd.jupyter.widget-view+json": {
       "model_id": "13310a709dad43c28f5795418228bd79",
       "version_major": 2,
       "version_minor": 0
      },
      "text/plain": [
       "App(children=[Toolbar(children=[ToolbarItems(children=[Img(src='http://pycalphad.org/docs/latest/_images/pycal…"
      ]
     },
     "metadata": {},
     "output_type": "display_data"
    }
   ],
   "source": [
    "app"
   ]
  },
  {
   "cell_type": "code",
   "execution_count": null,
   "metadata": {},
   "outputs": [],
   "source": []
  }
 ],
 "metadata": {
  "kernelspec": {
   "display_name": "Python 3",
   "language": "python",
   "name": "python3"
  },
  "language_info": {
   "codemirror_mode": {
    "name": "ipython",
    "version": 3
   },
   "file_extension": ".py",
   "mimetype": "text/x-python",
   "name": "python",
   "nbconvert_exporter": "python",
   "pygments_lexer": "ipython3",
   "version": "3.6.6"
  }
 },
 "nbformat": 4,
 "nbformat_minor": 4
}
